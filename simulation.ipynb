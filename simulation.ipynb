{
 "cells": [
  {
   "cell_type": "code",
   "execution_count": 3,
   "metadata": {},
   "outputs": [],
   "source": [
    "import matplotlib.pyplot as plt\n",
    "import numpy as np\n",
    "import pandas as pd\n"
   ]
  },
  {
   "cell_type": "markdown",
   "metadata": {},
   "source": [
    "### Simulation"
   ]
  },
  {
   "cell_type": "markdown",
   "metadata": {},
   "source": [
    "How likely is it that you roll doubles when rolling two dice?\n",
    "\n"
   ]
  },
  {
   "cell_type": "code",
   "execution_count": 4,
   "metadata": {},
   "outputs": [
    {
     "data": {
      "text/plain": [
       "array([[5, 3],\n",
       "       [6, 6],\n",
       "       [6, 2],\n",
       "       ...,\n",
       "       [4, 1],\n",
       "       [3, 3],\n",
       "       [6, 4]])"
      ]
     },
     "execution_count": 4,
     "metadata": {},
     "output_type": "execute_result"
    }
   ],
   "source": [
    "n_trials = nrows = 10_000\n",
    "n_dice = ncols = 2\n",
    "\n",
    "rolls = np.random.choice([1,2,3,4,5,6], n_trials * n_dice).reshape(nrows,ncols)\n",
    "rolls"
   ]
  },
  {
   "cell_type": "code",
   "execution_count": 5,
   "metadata": {},
   "outputs": [
    {
     "name": "stdout",
     "output_type": "stream",
     "text": [
      "0.1702% chance to roll doubles\n"
     ]
    }
   ],
   "source": [
    "rolls = pd.DataFrame(rolls)\n",
    "print(f'{(rolls[0] == rolls[1]).mean()}% chance to roll doubles')"
   ]
  },
  {
   "cell_type": "markdown",
   "metadata": {},
   "source": [
    "If you flip 8 coins, what is the probability of getting exactly 3 heads? What is the probability of getting more than 3 heads?\n",
    "\n"
   ]
  },
  {
   "cell_type": "code",
   "execution_count": 6,
   "metadata": {},
   "outputs": [
    {
     "data": {
      "text/plain": [
       "array([[1, 0, 1, ..., 1, 0, 0],\n",
       "       [0, 0, 1, ..., 1, 0, 0],\n",
       "       [0, 1, 1, ..., 0, 0, 0],\n",
       "       ...,\n",
       "       [0, 1, 0, ..., 1, 0, 0],\n",
       "       [1, 0, 1, ..., 1, 1, 0],\n",
       "       [0, 0, 1, ..., 1, 0, 0]])"
      ]
     },
     "execution_count": 6,
     "metadata": {},
     "output_type": "execute_result"
    }
   ],
   "source": [
    "# making life easier(?) heads = 1, tails = 0\n",
    "c_trials = crows = 10_000\n",
    "c_dice = ccols = 8\n",
    "\n",
    "coins = np.random.choice([1,0], c_trials * c_dice).reshape(crows,ccols)\n",
    "coins"
   ]
  },
  {
   "cell_type": "code",
   "execution_count": 7,
   "metadata": {},
   "outputs": [
    {
     "name": "stdout",
     "output_type": "stream",
     "text": [
      "0.223 chance of exactly 3 heads, 0.6334 chance of more than 3 heads.\n",
      "There's also a 0.0035 chance of all heads, and 0.0035 chance of all tails.\n"
     ]
    }
   ],
   "source": [
    "coins = pd.DataFrame(coins)\n",
    "sum_of_flips = coins.sum(axis=1)\n",
    "exactly_three_heads = sum_of_flips == 3\n",
    "more_than_three_heads = sum_of_flips > 3\n",
    "all_heads = sum_of_flips == 8\n",
    "all_tails = sum_of_flips == 0\n",
    "rate_of_3_heads = exactly_three_heads.astype(int).mean()\n",
    "rate_of_more_than_3 = more_than_three_heads.astype(int).mean()\n",
    "rate_all_heads = all_heads.astype(int).mean()\n",
    "rate_all_tails = all_tails.astype(int).mean()\n",
    "print(f'{rate_of_3_heads} chance of exactly 3 heads, {rate_of_more_than_3} chance of more than 3 heads.')\n",
    "print(f\"There's also a {rate_all_heads} chance of all heads, and {rate_all_tails} chance of all tails.\")"
   ]
  },
  {
   "cell_type": "markdown",
   "metadata": {},
   "source": [
    "There are approximitely 3 web development cohorts for every 1 data science cohort at Codeup. Assuming that Codeup randomly selects an alumni to put on a billboard, what are the odds that the two billboards I drive past both have data science students on them?\n",
    "\n"
   ]
  },
  {
   "cell_type": "code",
   "execution_count": 8,
   "metadata": {},
   "outputs": [
    {
     "data": {
      "text/plain": [
       "array([['ds', 'web'],\n",
       "       ['ds', 'web'],\n",
       "       ['web', 'ds'],\n",
       "       ...,\n",
       "       ['web', 'web'],\n",
       "       ['ds', 'web'],\n",
       "       ['web', 'ds']], dtype='<U3')"
      ]
     },
     "execution_count": 8,
     "metadata": {},
     "output_type": "execute_result"
    }
   ],
   "source": [
    "outcomes = ['web', 'web', 'web', 'ds']\n",
    "billboards_tot = 2\n",
    "billboards = np.random.choice(outcomes, size = (n_trials, billboards_tot))\n",
    "billboards"
   ]
  },
  {
   "cell_type": "code",
   "execution_count": 9,
   "metadata": {},
   "outputs": [
    {
     "data": {
      "text/plain": [
       "0.0647"
      ]
     },
     "execution_count": 9,
     "metadata": {},
     "output_type": "execute_result"
    }
   ],
   "source": [
    "((billboards == 'ds').sum(axis=1) == 2).mean()"
   ]
  },
  {
   "cell_type": "markdown",
   "metadata": {},
   "source": [
    "Codeup students buy, on average, 3 poptart packages with a standard deviation of 1.5 a day from the snack vending machine. If on monday the machine is restocked with 17 poptart packages, how likely is it that I will be able to buy some poptarts on Friday afternoon? (Remember, if you have mean and standard deviation, use the np.random.normal) You'll need to make a judgement call on how to handle some of your values\n",
    "\n"
   ]
  },
  {
   "cell_type": "code",
   "execution_count": 10,
   "metadata": {},
   "outputs": [
    {
     "data": {
      "text/plain": [
       "array([[4.19984399, 4.2715775 , 2.44752785, 3.48967213, 4.3837154 ],\n",
       "       [3.68420605, 1.21170377, 4.29933524, 3.19285076, 2.22900608],\n",
       "       [4.71091031, 3.39680001, 2.28892013, 3.72703181, 1.26505147],\n",
       "       ...,\n",
       "       [1.55409865, 1.14220643, 4.25983808, 3.38973095, 1.63244174],\n",
       "       [2.28851859, 2.2452114 , 2.15342407, 3.10794588, 4.66055244],\n",
       "       [4.27538885, 5.54717845, 1.77975681, 4.63756248, 3.58291998]])"
      ]
     },
     "execution_count": 10,
     "metadata": {},
     "output_type": "execute_result"
    }
   ],
   "source": [
    "mean = 3\n",
    "sd = 1.5\n",
    "days = 5\n",
    "\n",
    "poptarts_a_day = np.random.normal(mean, sd, size=(n_trials, days))\n",
    "poptarts_a_day"
   ]
  },
  {
   "cell_type": "code",
   "execution_count": 11,
   "metadata": {},
   "outputs": [],
   "source": [
    "poptarts_a_week = poptarts_a_day.sum(axis=1)"
   ]
  },
  {
   "cell_type": "code",
   "execution_count": 12,
   "metadata": {},
   "outputs": [
    {
     "name": "stdout",
     "output_type": "stream",
     "text": [
      "0.7204 chance to be able to purchase a poptart on Friday afternoon.\n"
     ]
    }
   ],
   "source": [
    "print(f\"{(poptarts_a_week < 17).mean()} chance to be able to purchase a poptart on Friday afternoon.\")"
   ]
  },
  {
   "cell_type": "markdown",
   "metadata": {},
   "source": [
    "Compare Heights\n",
    "\n",
    "Men have an average height of 178 cm and standard deviation of 8cm.\n",
    "Women have a mean of 170, sd = 6cm.\n",
    "Since you have means and standard deviations, you can use np.random.normal to generate observations.\n",
    "If a man and woman are chosen at random, what is the likelihood the woman is taller than the man?\n"
   ]
  },
  {
   "cell_type": "code",
   "execution_count": 13,
   "metadata": {},
   "outputs": [],
   "source": [
    "male_mean = 178\n",
    "male_sd = 8\n",
    "female_mean = 170\n",
    "female_sd = 6"
   ]
  },
  {
   "cell_type": "code",
   "execution_count": 14,
   "metadata": {},
   "outputs": [
    {
     "data": {
      "text/plain": [
       "array([177.64815199, 182.28271685, 188.15461301, ..., 189.13773716,\n",
       "       170.63166172, 183.95377177])"
      ]
     },
     "execution_count": 14,
     "metadata": {},
     "output_type": "execute_result"
    }
   ],
   "source": [
    "male_height = np.random.normal(male_mean, male_sd, n_trials)\n",
    "male_height"
   ]
  },
  {
   "cell_type": "code",
   "execution_count": 15,
   "metadata": {},
   "outputs": [
    {
     "data": {
      "text/plain": [
       "array([169.698601  , 171.66999062, 177.07419803, ..., 164.61619395,\n",
       "       168.00330143, 166.1861805 ])"
      ]
     },
     "execution_count": 15,
     "metadata": {},
     "output_type": "execute_result"
    }
   ],
   "source": [
    "female_height = np.random.normal(female_mean, female_sd,n_trials)\n",
    "female_height"
   ]
  },
  {
   "cell_type": "code",
   "execution_count": 16,
   "metadata": {},
   "outputs": [
    {
     "data": {
      "text/plain": [
       "0.2126"
      ]
     },
     "execution_count": 16,
     "metadata": {},
     "output_type": "execute_result"
    }
   ],
   "source": [
    "(female_height > male_height).mean()"
   ]
  },
  {
   "cell_type": "markdown",
   "metadata": {},
   "source": [
    "When installing anaconda on a student's computer, there's a 1 in 250 chance that the download is corrupted and the installation fails. What are the odds that after having 50 students download anaconda, no one has an installation issue? 100 students?\n",
    "\n",
    "What is the probability that we observe an installation issue within the first 150 students that download anaconda?\n",
    "\n",
    "How likely is it that 450 students all download anaconda without an issue?\n",
    "\n"
   ]
  },
  {
   "cell_type": "code",
   "execution_count": 17,
   "metadata": {},
   "outputs": [
    {
     "data": {
      "text/plain": [
       "array([['S', 'S', 'S', ..., 'S', 'S', 'S'],\n",
       "       ['S', 'S', 'S', ..., 'S', 'S', 'S'],\n",
       "       ['S', 'S', 'S', ..., 'S', 'S', 'S'],\n",
       "       ...,\n",
       "       ['S', 'S', 'S', ..., 'S', 'S', 'S'],\n",
       "       ['S', 'S', 'S', ..., 'S', 'S', 'S'],\n",
       "       ['S', 'S', 'S', ..., 'S', 'S', 'S']], dtype='<U1')"
      ]
     },
     "execution_count": 17,
     "metadata": {},
     "output_type": "execute_result"
    }
   ],
   "source": [
    "install_outcomes = ['S', 'F']\n",
    "students = 50\n",
    "downloads = np.random.choice(install_outcomes, size=(n_trials, students), p = [249/250, 1/250])\n",
    "downloads"
   ]
  },
  {
   "cell_type": "code",
   "execution_count": 18,
   "metadata": {},
   "outputs": [
    {
     "data": {
      "text/plain": [
       "0.8189"
      ]
     },
     "execution_count": 18,
     "metadata": {},
     "output_type": "execute_result"
    }
   ],
   "source": [
    "((downloads == 'S').sum(axis=1) == 50).mean()"
   ]
  },
  {
   "cell_type": "code",
   "execution_count": 19,
   "metadata": {},
   "outputs": [
    {
     "data": {
      "text/plain": [
       "array([['S', 'S', 'S', ..., 'S', 'S', 'S'],\n",
       "       ['S', 'S', 'S', ..., 'S', 'S', 'S'],\n",
       "       ['S', 'S', 'S', ..., 'S', 'S', 'S'],\n",
       "       ...,\n",
       "       ['S', 'S', 'S', ..., 'S', 'S', 'S'],\n",
       "       ['S', 'S', 'S', ..., 'S', 'S', 'S'],\n",
       "       ['S', 'S', 'S', ..., 'S', 'S', 'S']], dtype='<U1')"
      ]
     },
     "execution_count": 19,
     "metadata": {},
     "output_type": "execute_result"
    }
   ],
   "source": [
    "students2 = 100\n",
    "downloads = np.random.choice(install_outcomes, size=(n_trials, students2), p = [249/250, 1/250])\n",
    "downloads"
   ]
  },
  {
   "cell_type": "code",
   "execution_count": 20,
   "metadata": {},
   "outputs": [
    {
     "data": {
      "text/plain": [
       "0.671"
      ]
     },
     "execution_count": 20,
     "metadata": {},
     "output_type": "execute_result"
    }
   ],
   "source": [
    "((downloads == 'S').sum(axis=1) == 100).mean()"
   ]
  },
  {
   "cell_type": "code",
   "execution_count": 21,
   "metadata": {},
   "outputs": [
    {
     "data": {
      "text/plain": [
       "array([['S', 'S', 'S', ..., 'S', 'S', 'S'],\n",
       "       ['S', 'S', 'S', ..., 'S', 'S', 'S'],\n",
       "       ['S', 'S', 'S', ..., 'S', 'S', 'S'],\n",
       "       ...,\n",
       "       ['S', 'S', 'S', ..., 'S', 'S', 'S'],\n",
       "       ['S', 'S', 'S', ..., 'S', 'S', 'S'],\n",
       "       ['S', 'S', 'S', ..., 'S', 'S', 'S']], dtype='<U1')"
      ]
     },
     "execution_count": 21,
     "metadata": {},
     "output_type": "execute_result"
    }
   ],
   "source": [
    "students3 = 150\n",
    "downloads = np.random.choice(install_outcomes, size=(n_trials, students3), p = [249/250, 1/250])\n",
    "downloads"
   ]
  },
  {
   "cell_type": "code",
   "execution_count": 22,
   "metadata": {},
   "outputs": [
    {
     "data": {
      "text/plain": [
       "0.4434"
      ]
     },
     "execution_count": 22,
     "metadata": {},
     "output_type": "execute_result"
    }
   ],
   "source": [
    "((downloads == 'S').sum(axis=1) < students3).mean()"
   ]
  },
  {
   "cell_type": "code",
   "execution_count": 23,
   "metadata": {},
   "outputs": [
    {
     "data": {
      "text/plain": [
       "array([['S', 'S', 'S', ..., 'S', 'S', 'S'],\n",
       "       ['S', 'S', 'S', ..., 'S', 'S', 'S'],\n",
       "       ['S', 'S', 'S', ..., 'S', 'S', 'S'],\n",
       "       ...,\n",
       "       ['S', 'S', 'S', ..., 'S', 'S', 'S'],\n",
       "       ['S', 'S', 'S', ..., 'S', 'S', 'S'],\n",
       "       ['S', 'S', 'S', ..., 'S', 'S', 'S']], dtype='<U1')"
      ]
     },
     "execution_count": 23,
     "metadata": {},
     "output_type": "execute_result"
    }
   ],
   "source": [
    "students4 = 450\n",
    "downloads = np.random.choice(install_outcomes, size=(n_trials, students4), p = [249/250, 1/250])\n",
    "downloads"
   ]
  },
  {
   "cell_type": "code",
   "execution_count": 24,
   "metadata": {},
   "outputs": [
    {
     "data": {
      "text/plain": [
       "0.1628"
      ]
     },
     "execution_count": 24,
     "metadata": {},
     "output_type": "execute_result"
    }
   ],
   "source": [
    "((downloads == 'S').sum(axis=1) == students4).mean()"
   ]
  },
  {
   "cell_type": "markdown",
   "metadata": {},
   "source": [
    "There's a 70% chance on any given day that there will be at least one food truck at Travis Park. However, you haven't seen a food truck there in 3 days. How unlikely is this?\n",
    "\n",
    "How likely is it that a food truck will show up sometime this week?\n",
    "\n"
   ]
  },
  {
   "cell_type": "code",
   "execution_count": 25,
   "metadata": {},
   "outputs": [
    {
     "data": {
      "text/plain": [
       "array([[0.52846826, 0.60829083, 0.91167616],\n",
       "       [0.80971742, 0.10125827, 0.74998636],\n",
       "       [0.40530542, 0.20838484, 0.98643838],\n",
       "       ...,\n",
       "       [0.8436847 , 0.44301454, 0.31069441],\n",
       "       [0.50104922, 0.73142724, 0.53946866],\n",
       "       [0.92887237, 0.72022653, 0.51419612]])"
      ]
     },
     "execution_count": 25,
     "metadata": {},
     "output_type": "execute_result"
    }
   ],
   "source": [
    "food_truck_prob = 0.70\n",
    "days = 3\n",
    "is_truck_here = np.random.random((n_trials, days))\n",
    "is_truck_here"
   ]
  },
  {
   "cell_type": "code",
   "execution_count": 26,
   "metadata": {},
   "outputs": [
    {
     "data": {
      "text/plain": [
       "array([[ True,  True, False],\n",
       "       [False,  True, False],\n",
       "       [ True,  True, False],\n",
       "       ...,\n",
       "       [False,  True,  True],\n",
       "       [ True, False,  True],\n",
       "       [False, False,  True]])"
      ]
     },
     "execution_count": 26,
     "metadata": {},
     "output_type": "execute_result"
    }
   ],
   "source": [
    "food_is_here = (is_truck_here < food_truck_prob)\n",
    "food_is_here"
   ]
  },
  {
   "cell_type": "code",
   "execution_count": 27,
   "metadata": {},
   "outputs": [
    {
     "data": {
      "text/plain": [
       "0.0274"
      ]
     },
     "execution_count": 27,
     "metadata": {},
     "output_type": "execute_result"
    }
   ],
   "source": [
    "(food_is_here.sum(axis=1) == 0).mean()"
   ]
  },
  {
   "cell_type": "code",
   "execution_count": 28,
   "metadata": {},
   "outputs": [
    {
     "data": {
      "text/plain": [
       "0.9997"
      ]
     },
     "execution_count": 28,
     "metadata": {},
     "output_type": "execute_result"
    }
   ],
   "source": [
    "days = 7\n",
    "is_truck_here = np.random.random((n_trials, days))\n",
    "food_is_here = (is_truck_here < food_truck_prob)\n",
    "(food_is_here.sum(axis=1) > 0).mean()"
   ]
  },
  {
   "cell_type": "markdown",
   "metadata": {},
   "source": [
    "If 23 people are in the same room, what are the odds that two of them share a birthday? What if it's 20 people? 40?\n",
    "\n"
   ]
  },
  {
   "cell_type": "code",
   "execution_count": 29,
   "metadata": {},
   "outputs": [
    {
     "data": {
      "text/plain": [
       "array([[177, 334,  19, ..., 127,  73,  86],\n",
       "       [228,  40, 359, ..., 265,  63,  85],\n",
       "       [169, 334, 323, ...,  35, 226, 291],\n",
       "       ...,\n",
       "       [ 75, 296, 233, ..., 165, 117, 192],\n",
       "       [246, 240, 223, ..., 230, 272, 106],\n",
       "       [ 46, 309, 145, ..., 336, 193, 272]])"
      ]
     },
     "execution_count": 29,
     "metadata": {},
     "output_type": "execute_result"
    }
   ],
   "source": [
    "outcome = range(366)\n",
    "people = 23\n",
    "\n",
    "birthdays = np.random.choice(outcome, size=(n_trials,people))\n",
    "birthdays"
   ]
  },
  {
   "cell_type": "code",
   "execution_count": 30,
   "metadata": {},
   "outputs": [
    {
     "data": {
      "text/html": [
       "<div>\n",
       "<style scoped>\n",
       "    .dataframe tbody tr th:only-of-type {\n",
       "        vertical-align: middle;\n",
       "    }\n",
       "\n",
       "    .dataframe tbody tr th {\n",
       "        vertical-align: top;\n",
       "    }\n",
       "\n",
       "    .dataframe thead th {\n",
       "        text-align: right;\n",
       "    }\n",
       "</style>\n",
       "<table border=\"1\" class=\"dataframe\">\n",
       "  <thead>\n",
       "    <tr style=\"text-align: right;\">\n",
       "      <th></th>\n",
       "      <th>0</th>\n",
       "      <th>1</th>\n",
       "      <th>2</th>\n",
       "      <th>3</th>\n",
       "      <th>4</th>\n",
       "      <th>5</th>\n",
       "      <th>6</th>\n",
       "      <th>7</th>\n",
       "      <th>8</th>\n",
       "      <th>9</th>\n",
       "      <th>...</th>\n",
       "      <th>13</th>\n",
       "      <th>14</th>\n",
       "      <th>15</th>\n",
       "      <th>16</th>\n",
       "      <th>17</th>\n",
       "      <th>18</th>\n",
       "      <th>19</th>\n",
       "      <th>20</th>\n",
       "      <th>21</th>\n",
       "      <th>22</th>\n",
       "    </tr>\n",
       "  </thead>\n",
       "  <tbody>\n",
       "    <tr>\n",
       "      <th>0</th>\n",
       "      <td>177</td>\n",
       "      <td>334</td>\n",
       "      <td>19</td>\n",
       "      <td>126</td>\n",
       "      <td>177</td>\n",
       "      <td>287</td>\n",
       "      <td>271</td>\n",
       "      <td>232</td>\n",
       "      <td>200</td>\n",
       "      <td>189</td>\n",
       "      <td>...</td>\n",
       "      <td>154</td>\n",
       "      <td>115</td>\n",
       "      <td>121</td>\n",
       "      <td>27</td>\n",
       "      <td>229</td>\n",
       "      <td>27</td>\n",
       "      <td>1</td>\n",
       "      <td>127</td>\n",
       "      <td>73</td>\n",
       "      <td>86</td>\n",
       "    </tr>\n",
       "    <tr>\n",
       "      <th>1</th>\n",
       "      <td>228</td>\n",
       "      <td>40</td>\n",
       "      <td>359</td>\n",
       "      <td>19</td>\n",
       "      <td>219</td>\n",
       "      <td>235</td>\n",
       "      <td>121</td>\n",
       "      <td>42</td>\n",
       "      <td>325</td>\n",
       "      <td>240</td>\n",
       "      <td>...</td>\n",
       "      <td>307</td>\n",
       "      <td>8</td>\n",
       "      <td>274</td>\n",
       "      <td>136</td>\n",
       "      <td>43</td>\n",
       "      <td>170</td>\n",
       "      <td>22</td>\n",
       "      <td>265</td>\n",
       "      <td>63</td>\n",
       "      <td>85</td>\n",
       "    </tr>\n",
       "    <tr>\n",
       "      <th>2</th>\n",
       "      <td>169</td>\n",
       "      <td>334</td>\n",
       "      <td>323</td>\n",
       "      <td>266</td>\n",
       "      <td>100</td>\n",
       "      <td>275</td>\n",
       "      <td>80</td>\n",
       "      <td>137</td>\n",
       "      <td>245</td>\n",
       "      <td>37</td>\n",
       "      <td>...</td>\n",
       "      <td>110</td>\n",
       "      <td>225</td>\n",
       "      <td>222</td>\n",
       "      <td>148</td>\n",
       "      <td>72</td>\n",
       "      <td>11</td>\n",
       "      <td>361</td>\n",
       "      <td>35</td>\n",
       "      <td>226</td>\n",
       "      <td>291</td>\n",
       "    </tr>\n",
       "    <tr>\n",
       "      <th>3</th>\n",
       "      <td>312</td>\n",
       "      <td>317</td>\n",
       "      <td>295</td>\n",
       "      <td>185</td>\n",
       "      <td>227</td>\n",
       "      <td>309</td>\n",
       "      <td>26</td>\n",
       "      <td>238</td>\n",
       "      <td>245</td>\n",
       "      <td>129</td>\n",
       "      <td>...</td>\n",
       "      <td>165</td>\n",
       "      <td>175</td>\n",
       "      <td>217</td>\n",
       "      <td>175</td>\n",
       "      <td>282</td>\n",
       "      <td>314</td>\n",
       "      <td>261</td>\n",
       "      <td>311</td>\n",
       "      <td>20</td>\n",
       "      <td>265</td>\n",
       "    </tr>\n",
       "    <tr>\n",
       "      <th>4</th>\n",
       "      <td>26</td>\n",
       "      <td>92</td>\n",
       "      <td>52</td>\n",
       "      <td>274</td>\n",
       "      <td>335</td>\n",
       "      <td>106</td>\n",
       "      <td>276</td>\n",
       "      <td>89</td>\n",
       "      <td>329</td>\n",
       "      <td>0</td>\n",
       "      <td>...</td>\n",
       "      <td>129</td>\n",
       "      <td>78</td>\n",
       "      <td>148</td>\n",
       "      <td>354</td>\n",
       "      <td>151</td>\n",
       "      <td>322</td>\n",
       "      <td>88</td>\n",
       "      <td>92</td>\n",
       "      <td>354</td>\n",
       "      <td>241</td>\n",
       "    </tr>\n",
       "    <tr>\n",
       "      <th>...</th>\n",
       "      <td>...</td>\n",
       "      <td>...</td>\n",
       "      <td>...</td>\n",
       "      <td>...</td>\n",
       "      <td>...</td>\n",
       "      <td>...</td>\n",
       "      <td>...</td>\n",
       "      <td>...</td>\n",
       "      <td>...</td>\n",
       "      <td>...</td>\n",
       "      <td>...</td>\n",
       "      <td>...</td>\n",
       "      <td>...</td>\n",
       "      <td>...</td>\n",
       "      <td>...</td>\n",
       "      <td>...</td>\n",
       "      <td>...</td>\n",
       "      <td>...</td>\n",
       "      <td>...</td>\n",
       "      <td>...</td>\n",
       "      <td>...</td>\n",
       "    </tr>\n",
       "    <tr>\n",
       "      <th>9995</th>\n",
       "      <td>276</td>\n",
       "      <td>104</td>\n",
       "      <td>305</td>\n",
       "      <td>235</td>\n",
       "      <td>279</td>\n",
       "      <td>63</td>\n",
       "      <td>263</td>\n",
       "      <td>261</td>\n",
       "      <td>228</td>\n",
       "      <td>127</td>\n",
       "      <td>...</td>\n",
       "      <td>162</td>\n",
       "      <td>318</td>\n",
       "      <td>265</td>\n",
       "      <td>111</td>\n",
       "      <td>178</td>\n",
       "      <td>86</td>\n",
       "      <td>65</td>\n",
       "      <td>235</td>\n",
       "      <td>100</td>\n",
       "      <td>68</td>\n",
       "    </tr>\n",
       "    <tr>\n",
       "      <th>9996</th>\n",
       "      <td>134</td>\n",
       "      <td>216</td>\n",
       "      <td>363</td>\n",
       "      <td>46</td>\n",
       "      <td>268</td>\n",
       "      <td>40</td>\n",
       "      <td>297</td>\n",
       "      <td>123</td>\n",
       "      <td>133</td>\n",
       "      <td>266</td>\n",
       "      <td>...</td>\n",
       "      <td>272</td>\n",
       "      <td>57</td>\n",
       "      <td>97</td>\n",
       "      <td>220</td>\n",
       "      <td>184</td>\n",
       "      <td>17</td>\n",
       "      <td>74</td>\n",
       "      <td>318</td>\n",
       "      <td>128</td>\n",
       "      <td>296</td>\n",
       "    </tr>\n",
       "    <tr>\n",
       "      <th>9997</th>\n",
       "      <td>75</td>\n",
       "      <td>296</td>\n",
       "      <td>233</td>\n",
       "      <td>127</td>\n",
       "      <td>200</td>\n",
       "      <td>137</td>\n",
       "      <td>153</td>\n",
       "      <td>350</td>\n",
       "      <td>22</td>\n",
       "      <td>251</td>\n",
       "      <td>...</td>\n",
       "      <td>318</td>\n",
       "      <td>61</td>\n",
       "      <td>45</td>\n",
       "      <td>190</td>\n",
       "      <td>195</td>\n",
       "      <td>269</td>\n",
       "      <td>237</td>\n",
       "      <td>165</td>\n",
       "      <td>117</td>\n",
       "      <td>192</td>\n",
       "    </tr>\n",
       "    <tr>\n",
       "      <th>9998</th>\n",
       "      <td>246</td>\n",
       "      <td>240</td>\n",
       "      <td>223</td>\n",
       "      <td>326</td>\n",
       "      <td>23</td>\n",
       "      <td>164</td>\n",
       "      <td>28</td>\n",
       "      <td>43</td>\n",
       "      <td>171</td>\n",
       "      <td>203</td>\n",
       "      <td>...</td>\n",
       "      <td>292</td>\n",
       "      <td>172</td>\n",
       "      <td>114</td>\n",
       "      <td>108</td>\n",
       "      <td>278</td>\n",
       "      <td>196</td>\n",
       "      <td>217</td>\n",
       "      <td>230</td>\n",
       "      <td>272</td>\n",
       "      <td>106</td>\n",
       "    </tr>\n",
       "    <tr>\n",
       "      <th>9999</th>\n",
       "      <td>46</td>\n",
       "      <td>309</td>\n",
       "      <td>145</td>\n",
       "      <td>351</td>\n",
       "      <td>52</td>\n",
       "      <td>299</td>\n",
       "      <td>310</td>\n",
       "      <td>365</td>\n",
       "      <td>97</td>\n",
       "      <td>106</td>\n",
       "      <td>...</td>\n",
       "      <td>235</td>\n",
       "      <td>288</td>\n",
       "      <td>201</td>\n",
       "      <td>169</td>\n",
       "      <td>175</td>\n",
       "      <td>220</td>\n",
       "      <td>260</td>\n",
       "      <td>336</td>\n",
       "      <td>193</td>\n",
       "      <td>272</td>\n",
       "    </tr>\n",
       "  </tbody>\n",
       "</table>\n",
       "<p>10000 rows × 23 columns</p>\n",
       "</div>"
      ],
      "text/plain": [
       "       0    1    2    3    4    5    6    7    8    9   ...   13   14   15  \\\n",
       "0     177  334   19  126  177  287  271  232  200  189  ...  154  115  121   \n",
       "1     228   40  359   19  219  235  121   42  325  240  ...  307    8  274   \n",
       "2     169  334  323  266  100  275   80  137  245   37  ...  110  225  222   \n",
       "3     312  317  295  185  227  309   26  238  245  129  ...  165  175  217   \n",
       "4      26   92   52  274  335  106  276   89  329    0  ...  129   78  148   \n",
       "...   ...  ...  ...  ...  ...  ...  ...  ...  ...  ...  ...  ...  ...  ...   \n",
       "9995  276  104  305  235  279   63  263  261  228  127  ...  162  318  265   \n",
       "9996  134  216  363   46  268   40  297  123  133  266  ...  272   57   97   \n",
       "9997   75  296  233  127  200  137  153  350   22  251  ...  318   61   45   \n",
       "9998  246  240  223  326   23  164   28   43  171  203  ...  292  172  114   \n",
       "9999   46  309  145  351   52  299  310  365   97  106  ...  235  288  201   \n",
       "\n",
       "       16   17   18   19   20   21   22  \n",
       "0      27  229   27    1  127   73   86  \n",
       "1     136   43  170   22  265   63   85  \n",
       "2     148   72   11  361   35  226  291  \n",
       "3     175  282  314  261  311   20  265  \n",
       "4     354  151  322   88   92  354  241  \n",
       "...   ...  ...  ...  ...  ...  ...  ...  \n",
       "9995  111  178   86   65  235  100   68  \n",
       "9996  220  184   17   74  318  128  296  \n",
       "9997  190  195  269  237  165  117  192  \n",
       "9998  108  278  196  217  230  272  106  \n",
       "9999  169  175  220  260  336  193  272  \n",
       "\n",
       "[10000 rows x 23 columns]"
      ]
     },
     "execution_count": 30,
     "metadata": {},
     "output_type": "execute_result"
    }
   ],
   "source": [
    "birthdays = pd.DataFrame(birthdays)\n",
    "birthdays"
   ]
  },
  {
   "cell_type": "code",
   "execution_count": 31,
   "metadata": {},
   "outputs": [
    {
     "data": {
      "text/plain": [
       "0.5077"
      ]
     },
     "execution_count": 31,
     "metadata": {},
     "output_type": "execute_result"
    }
   ],
   "source": [
    "# I love nunique, I'm curious what nlargest/nsmallest does in the wild.\n",
    "(birthdays.nunique(axis=1) < people).mean()"
   ]
  },
  {
   "cell_type": "code",
   "execution_count": 32,
   "metadata": {},
   "outputs": [
    {
     "data": {
      "text/plain": [
       "0.4079"
      ]
     },
     "execution_count": 32,
     "metadata": {},
     "output_type": "execute_result"
    }
   ],
   "source": [
    "people2 = 20\n",
    "birthdays = np.random.choice(outcome, size=(n_trials,people2))\n",
    "birthdays = pd.DataFrame(birthdays)\n",
    "(birthdays.nunique(axis=1) < people2).mean()"
   ]
  },
  {
   "cell_type": "code",
   "execution_count": 33,
   "metadata": {},
   "outputs": [
    {
     "data": {
      "text/plain": [
       "0.8883"
      ]
     },
     "execution_count": 33,
     "metadata": {},
     "output_type": "execute_result"
    }
   ],
   "source": [
    "people3 = 40\n",
    "birthdays = np.random.choice(outcome, size=(n_trials,people3))\n",
    "birthdays = pd.DataFrame(birthdays)\n",
    "(birthdays.nunique(axis=1) < people3).mean()"
   ]
  },
  {
   "cell_type": "markdown",
   "metadata": {},
   "source": [
    "#### Bonus:"
   ]
  },
  {
   "cell_type": "markdown",
   "metadata": {},
   "source": [
    "##### Mage Duel!\n",
    "\n",
    "Let's use what we've learned to play a mage duel!\n",
    "\n",
    "- Imagine your wizard has 6d4 health points and you have spells that do 6d4 damage.\n",
    "- Your opposing mage has 4d6 health points and spells that do 4d6. \"4d6\" means \n"
   ]
  },
  {
   "cell_type": "code",
   "execution_count": 43,
   "metadata": {},
   "outputs": [],
   "source": [
    "d4 = [1,2,3,4]\n",
    "d6 = [1,2,3,4,5,6]\n",
    "my_dice = my_cols = 6\n",
    "opp_dice = opp_cols = 4"
   ]
  },
  {
   "cell_type": "markdown",
   "metadata": {},
   "source": [
    "\n",
    "##### Exercises\n",
    "Simulate mage duels to answer who is the more powerful mage?\n",
    "\n",
    "\n",
    "1. Before running simulations, do you have a hypothesis of which mage will win? Do you have a hunch? Write it down. This is your first exercise.\n"
   ]
  },
  {
   "cell_type": "code",
   "execution_count": 39,
   "metadata": {},
   "outputs": [],
   "source": [
    "# Both mages should have an about equal chance of winning since the max possible \n",
    "# points for both are 24 HP and 24 damage."
   ]
  },
  {
   "cell_type": "markdown",
   "metadata": {},
   "source": [
    "2. Simulate 10 mage duels. Is there a clear winner? Run that 10 duel simulation again. Was the answer similar?\n"
   ]
  },
  {
   "cell_type": "code",
   "execution_count": 51,
   "metadata": {},
   "outputs": [],
   "source": [
    "# Round 1:\n",
    "duels = duel_rows = 10"
   ]
  },
  {
   "cell_type": "code",
   "execution_count": 52,
   "metadata": {},
   "outputs": [
    {
     "data": {
      "text/plain": [
       "array([18, 17, 14, 14, 16, 18, 16, 15, 18, 13])"
      ]
     },
     "execution_count": 52,
     "metadata": {},
     "output_type": "execute_result"
    }
   ],
   "source": [
    "my_hp = np.random.choice(d4, duels * my_dice).reshape(duel_rows,my_cols).sum(axis=1)\n",
    "my_hp"
   ]
  },
  {
   "cell_type": "code",
   "execution_count": 53,
   "metadata": {},
   "outputs": [
    {
     "data": {
      "text/plain": [
       "array([13, 21, 14, 10, 12, 11, 13, 15, 19, 13])"
      ]
     },
     "execution_count": 53,
     "metadata": {},
     "output_type": "execute_result"
    }
   ],
   "source": [
    "opponent_hp = np.random.choice(d6, duels * opp_dice).reshape(duel_rows,opp_cols).sum(axis=1)\n",
    "opponent_hp"
   ]
  },
  {
   "cell_type": "code",
   "execution_count": 54,
   "metadata": {},
   "outputs": [
    {
     "data": {
      "text/plain": [
       "(array([13, 19, 18, 14, 16, 13, 16, 12, 17, 11]),\n",
       " array([10, 15, 20, 12, 15, 23, 10, 17, 15, 17]))"
      ]
     },
     "execution_count": 54,
     "metadata": {},
     "output_type": "execute_result"
    }
   ],
   "source": [
    "my_attacks = np.random.choice(d4, duels * my_dice).reshape(duel_rows,my_cols).sum(axis=1)\n",
    "opponent_attacks = np.random.choice(d6, duels * opp_dice).reshape(duel_rows, opp_cols).sum(axis=1)\n",
    "my_attacks, opponent_attacks"
   ]
  },
  {
   "cell_type": "code",
   "execution_count": 57,
   "metadata": {},
   "outputs": [
    {
     "data": {
      "text/plain": [
       "(0.5, 0.4)"
      ]
     },
     "execution_count": 57,
     "metadata": {},
     "output_type": "execute_result"
    }
   ],
   "source": [
    "(my_attacks > opponent_hp).mean(),(opponent_attacks > my_hp).mean()"
   ]
  },
  {
   "cell_type": "code",
   "execution_count": 58,
   "metadata": {},
   "outputs": [
    {
     "data": {
      "text/plain": [
       "(array([11, 16, 14, 21, 17, 18, 15, 14, 16, 14]),\n",
       " array([12, 17, 10, 13, 10, 15, 10, 13, 13, 11]))"
      ]
     },
     "execution_count": 58,
     "metadata": {},
     "output_type": "execute_result"
    }
   ],
   "source": [
    "# Round 2:\n",
    "opponent_hp = np.random.choice(d6, duels * opp_dice).reshape(duel_rows,opp_cols).sum(axis=1)\n",
    "my_hp = np.random.choice(d4, duels * my_dice).reshape(duel_rows,my_cols).sum(axis=1)\n",
    "my_hp, opponent_hp"
   ]
  },
  {
   "cell_type": "code",
   "execution_count": 59,
   "metadata": {},
   "outputs": [
    {
     "data": {
      "text/plain": [
       "(array([14, 13, 11, 11, 14, 14, 14, 17, 20, 19]),\n",
       " array([16, 13, 11,  9,  8, 13, 18, 15, 10, 14]))"
      ]
     },
     "execution_count": 59,
     "metadata": {},
     "output_type": "execute_result"
    }
   ],
   "source": [
    "my_attacks = np.random.choice(d4, duels * my_dice).reshape(duel_rows,my_cols).sum(axis=1)\n",
    "opponent_attacks = np.random.choice(d6, duels * opp_dice).reshape(duel_rows, opp_cols).sum(axis=1)\n",
    "my_attacks, opponent_attacks"
   ]
  },
  {
   "cell_type": "code",
   "execution_count": 60,
   "metadata": {},
   "outputs": [
    {
     "data": {
      "text/plain": [
       "(0.7, 0.3)"
      ]
     },
     "execution_count": 60,
     "metadata": {},
     "output_type": "execute_result"
    }
   ],
   "source": [
    "(my_attacks > opponent_hp).mean(),(opponent_attacks > my_hp).mean()"
   ]
  },
  {
   "cell_type": "code",
   "execution_count": null,
   "metadata": {},
   "outputs": [],
   "source": [
    "# If each duel only has one round of attacks, it's almost exactly 50/50 odds, first 10 matches were 50% my favour, 40% my opponents, and 10% a draw. ((This isn't perfectly acurate, but I'm not sure how to judge things like, needing more than one attack, or both of us getting over the other's HP.))\n",
    "# Round 2, the opponent mage had rolls like my friend Nori! So his chances of winning we're a lot less. So my mage showed 70% favour, and Nori's mage showed 30%"
   ]
  },
  {
   "cell_type": "markdown",
   "metadata": {},
   "source": [
    "3. Do the results change much at 100 duels?\n"
   ]
  },
  {
   "cell_type": "code",
   "execution_count": 61,
   "metadata": {},
   "outputs": [],
   "source": [
    "duels = duel_rows = 100"
   ]
  },
  {
   "cell_type": "code",
   "execution_count": 62,
   "metadata": {},
   "outputs": [
    {
     "data": {
      "text/plain": [
       "(array([17, 15, 18, 11, 17, 17, 15, 17, 13, 15, 18, 13, 14, 10, 12, 15, 18,\n",
       "        15, 17, 18, 18, 18, 18, 18, 17, 16, 17, 16, 12, 15, 15, 11, 16, 17,\n",
       "        14, 14, 14, 13, 13, 15, 16, 15, 17, 24, 17, 13, 19, 17, 15, 14, 13,\n",
       "        10, 16, 18, 15, 13, 15, 16, 21, 11, 15, 12, 15, 15, 13, 17, 12, 13,\n",
       "        15, 13, 15, 14,  8, 15, 16, 11, 15, 17, 15, 20, 11, 14, 17, 15, 19,\n",
       "        18, 17, 10, 16, 21, 13, 14, 14, 17, 17, 13, 14, 13, 20, 14]),\n",
       " array([17,  9,  8, 14, 12, 14, 13, 15, 13, 19, 12, 18, 17, 12, 22, 15, 14,\n",
       "        13, 15, 13, 11, 14, 17, 15, 13, 16, 11, 16, 14, 14, 11, 17, 14,  9,\n",
       "        14, 12, 11, 16, 10, 15, 14, 10, 17, 15, 16, 16, 10, 11, 10, 13, 12,\n",
       "        21, 10, 15, 11, 14, 16, 14,  9, 18, 13, 15,  9, 12, 18, 17, 12, 10,\n",
       "        15, 15, 15, 13, 15, 15, 11, 16, 12, 15, 12,  9, 19, 14, 19, 13, 11,\n",
       "         8, 12, 16, 11, 14, 12, 10, 14, 16, 13, 18, 15, 15,  9, 12]))"
      ]
     },
     "execution_count": 62,
     "metadata": {},
     "output_type": "execute_result"
    }
   ],
   "source": [
    "opponent_hp = np.random.choice(d6, duels * opp_dice).reshape(duel_rows,opp_cols).sum(axis=1)\n",
    "my_hp = np.random.choice(d4, duels * my_dice).reshape(duel_rows,my_cols).sum(axis=1)\n",
    "my_hp, opponent_hp"
   ]
  },
  {
   "cell_type": "code",
   "execution_count": 63,
   "metadata": {},
   "outputs": [
    {
     "data": {
      "text/plain": [
       "(array([17, 12, 12, 17, 12, 14, 13, 19, 19, 16, 16, 19, 15, 10, 13, 17, 19,\n",
       "        15, 15, 13, 19, 14, 12, 20, 15, 13, 17, 15, 12, 15, 19, 17, 15, 12,\n",
       "        18, 14,  8, 15, 13, 15, 12, 15, 17, 15, 18, 19, 17, 19, 19, 17, 16,\n",
       "        17, 17, 21, 17, 16, 13, 10, 13, 14, 14, 11, 20, 16, 17, 13, 16, 15,\n",
       "        14, 15, 18, 17, 14, 13, 16, 18, 16, 13, 15, 15, 16, 16, 14, 20, 16,\n",
       "        18, 17, 12, 17, 16, 15, 13,  9, 18, 14, 17, 22, 10, 16, 13]),\n",
       " array([12, 12, 14,  9, 13, 11, 14, 19, 14, 15, 17, 13, 15, 12, 11, 13, 15,\n",
       "        13,  9, 17, 12, 15, 15, 15, 12, 19, 14, 14, 13,  8, 20, 16, 16, 15,\n",
       "         8,  8, 15, 14, 15, 13, 11, 13, 12, 13,  7,  8, 11, 10, 14,  9, 13,\n",
       "        13, 13, 12, 14, 14, 15, 10, 11, 19, 14, 14, 16, 15, 13,  9, 13, 17,\n",
       "        14, 16, 15, 14, 12,  8, 19, 11, 22, 17, 13, 16,  9, 11, 16,  5, 18,\n",
       "        15,  9,  9, 16, 14, 12, 17, 12, 17, 14, 18, 12, 17,  9, 12]))"
      ]
     },
     "execution_count": 63,
     "metadata": {},
     "output_type": "execute_result"
    }
   ],
   "source": [
    "my_attacks = np.random.choice(d4, duels * my_dice).reshape(duel_rows,my_cols).sum(axis=1)\n",
    "opponent_attacks = np.random.choice(d6, duels * opp_dice).reshape(duel_rows, opp_cols).sum(axis=1)\n",
    "my_attacks, opponent_attacks"
   ]
  },
  {
   "cell_type": "code",
   "execution_count": 64,
   "metadata": {},
   "outputs": [
    {
     "data": {
      "text/plain": [
       "(0.6, 0.25)"
      ]
     },
     "execution_count": 64,
     "metadata": {},
     "output_type": "execute_result"
    }
   ],
   "source": [
    "(my_attacks > opponent_hp).mean(),(opponent_attacks > my_hp).mean()"
   ]
  },
  {
   "cell_type": "code",
   "execution_count": 65,
   "metadata": {},
   "outputs": [],
   "source": [
    "# Nori's mage rolled very poorly again,\n",
    "# but they're about on par with his last set of terrible rolls."
   ]
  },
  {
   "cell_type": "markdown",
   "metadata": {},
   "source": [
    "4. Now, simulate 10,000 mage duels. Is there a clear winner?"
   ]
  },
  {
   "cell_type": "code",
   "execution_count": 66,
   "metadata": {},
   "outputs": [],
   "source": [
    "duels = duel_rows = 10000"
   ]
  },
  {
   "cell_type": "code",
   "execution_count": 67,
   "metadata": {},
   "outputs": [
    {
     "data": {
      "text/plain": [
       "(array([14, 12, 13, ..., 10, 16, 13]), array([ 5, 17, 18, ..., 19, 20, 22]))"
      ]
     },
     "execution_count": 67,
     "metadata": {},
     "output_type": "execute_result"
    }
   ],
   "source": [
    "opponent_hp = np.random.choice(d6, duels * opp_dice).reshape(duel_rows,opp_cols).sum(axis=1)\n",
    "my_hp = np.random.choice(d4, duels * my_dice).reshape(duel_rows,my_cols).sum(axis=1)\n",
    "my_hp, opponent_hp"
   ]
  },
  {
   "cell_type": "code",
   "execution_count": 68,
   "metadata": {},
   "outputs": [
    {
     "data": {
      "text/plain": [
       "(array([12, 18, 14, ..., 13, 16, 14]), array([16, 12,  9, ..., 10, 11, 14]))"
      ]
     },
     "execution_count": 68,
     "metadata": {},
     "output_type": "execute_result"
    }
   ],
   "source": [
    "my_attacks = np.random.choice(d4, duels * my_dice).reshape(duel_rows,my_cols).sum(axis=1)\n",
    "opponent_attacks = np.random.choice(d6, duels * opp_dice).reshape(duel_rows, opp_cols).sum(axis=1)\n",
    "my_attacks, opponent_attacks"
   ]
  },
  {
   "cell_type": "code",
   "execution_count": 69,
   "metadata": {},
   "outputs": [
    {
     "data": {
      "text/plain": [
       "(0.5489, 0.3619)"
      ]
     },
     "execution_count": 69,
     "metadata": {},
     "output_type": "execute_result"
    }
   ],
   "source": [
    "(my_attacks > opponent_hp).mean(),(opponent_attacks > my_hp).mean()"
   ]
  },
  {
   "cell_type": "code",
   "execution_count": 70,
   "metadata": {},
   "outputs": [],
   "source": [
    "# This one matches more closely to the first round of 10 with a 55% vs. 36%"
   ]
  },
  {
   "cell_type": "markdown",
   "metadata": {},
   "source": [
    "I'm curious if the fact that the lowest I can roll is 6, vs. their lowest of 4 might play a role in the slightly skewed results."
   ]
  },
  {
   "cell_type": "code",
   "execution_count": 71,
   "metadata": {},
   "outputs": [
    {
     "data": {
      "text/plain": [
       "(0.0462, 0.0491, 0.0536, 0.0533)"
      ]
     },
     "execution_count": 71,
     "metadata": {},
     "output_type": "execute_result"
    }
   ],
   "source": [
    "(my_hp >= 20).mean(), (my_attacks >= 20).mean(), (opponent_hp >= 20).mean(), (opponent_attacks >= 20).mean()"
   ]
  },
  {
   "cell_type": "markdown",
   "metadata": {},
   "source": [
    "The other mage actually seems to have a slightly better chance of getting 20 or higher for both their HP and Attack Damage, so perhaps it's just some very bad rolls.\n",
    "\n",
    "Just under 5% chances for me and just over 5% chances for them."
   ]
  },
  {
   "cell_type": "code",
   "execution_count": 72,
   "metadata": {},
   "outputs": [
    {
     "data": {
      "text/plain": [
       "(0.045, 0.0531, 0.161, 0.1651)"
      ]
     },
     "execution_count": 72,
     "metadata": {},
     "output_type": "execute_result"
    }
   ],
   "source": [
    "(my_hp <= 10).mean(), (my_attacks <= 10).mean(), (opponent_hp <= 10).mean(), (opponent_attacks <= 10).mean()"
   ]
  },
  {
   "cell_type": "markdown",
   "metadata": {},
   "source": [
    "They have a higher chance of getting lower sums though due to only rolling 4 dice vs my 6.\n",
    "\n",
    "4.5% and 5.3% vs. 16% and 16.5%"
   ]
  },
  {
   "cell_type": "markdown",
   "metadata": {},
   "source": [
    "#### Bonus:\n"
   ]
  },
  {
   "cell_type": "markdown",
   "metadata": {},
   "source": [
    "The player pays $1 to play and picks a number.\n",
    "\n",
    "\n",
    "The House rolls 3 dice at once.\n",
    "\n",
    "\n",
    "##### Payouts:\n",
    "\n",
    "- $3 if all three dice match the chosen number\n",
    "- $2 if exactly two dice match the chosen number\n",
    "- $1 is exactly one of the dice matches the chosen number\n",
    "- If none of the dice match the player's chosen number, then the House keeps the $1.\n",
    "\n",
    "##### Exercises:\n",
    "\n",
    "1. What are your chances of getting an outcome payout of $2? (where we earned $3 on the $1 ante)\n"
   ]
  },
  {
   "cell_type": "code",
   "execution_count": 76,
   "metadata": {},
   "outputs": [
    {
     "data": {
      "text/plain": [
       "(array([[5, 6, 1],\n",
       "        [5, 6, 3],\n",
       "        [5, 6, 5],\n",
       "        ...,\n",
       "        [1, 4, 6],\n",
       "        [5, 5, 2],\n",
       "        [5, 1, 5]]),\n",
       " 4)"
      ]
     },
     "execution_count": 76,
     "metadata": {},
     "output_type": "execute_result"
    }
   ],
   "source": [
    "games = g_rows = 1_000_000\n",
    "dice = g_col = 3\n",
    "number = 4\n",
    "rolls = np.random.choice(d6, games * dice).reshape(g_rows, g_col)\n",
    "rolls, number"
   ]
  },
  {
   "cell_type": "code",
   "execution_count": 86,
   "metadata": {},
   "outputs": [
    {
     "name": "stdout",
     "output_type": "stream",
     "text": [
      "0.46% chance of getting a 2$ payout (aka: winning 3$)\n"
     ]
    }
   ],
   "source": [
    "print(f\"{round((((rolls == number).sum(axis=1) == 3).mean()) * 100, 2)}% chance of getting a 2$ payout (aka: winning 3$)\")"
   ]
  },
  {
   "cell_type": "markdown",
   "metadata": {},
   "source": [
    "2. What are your chances of getting an payout of $1?"
   ]
  },
  {
   "cell_type": "code",
   "execution_count": 87,
   "metadata": {},
   "outputs": [
    {
     "name": "stdout",
     "output_type": "stream",
     "text": [
      "6.95% chance of getting a 1$ payout (aka: winning 2$)\n"
     ]
    }
   ],
   "source": [
    "print(f\"{round((((rolls == number).sum(axis=1) == 2).mean()) * 100, 2)}% chance of getting a 1$ payout (aka: winning 2$)\")"
   ]
  },
  {
   "cell_type": "markdown",
   "metadata": {},
   "source": [
    "\n",
    "3. What are your chances of getting a payout of $0 where you ante $1 and win $1?\n"
   ]
  },
  {
   "cell_type": "code",
   "execution_count": 88,
   "metadata": {},
   "outputs": [
    {
     "name": "stdout",
     "output_type": "stream",
     "text": [
      "34.73% chance of breaking even (aka: winning 1$)\n"
     ]
    }
   ],
   "source": [
    "print(f\"{round((((rolls == number).sum(axis=1) == 1).mean()) * 100, 2)}% chance of breaking even (aka: winning 1$)\")"
   ]
  },
  {
   "cell_type": "markdown",
   "metadata": {},
   "source": [
    "\n",
    "4. What are your chances of getting a payout of -$1 where you ante up, but don't win anything?\n"
   ]
  },
  {
   "cell_type": "code",
   "execution_count": 89,
   "metadata": {},
   "outputs": [
    {
     "name": "stdout",
     "output_type": "stream",
     "text": [
      "57.86% chance of getting a -1$ payout (aka: not winning anything)\n"
     ]
    }
   ],
   "source": [
    "print(f\"{round((((rolls == number).sum(axis=1) == 0).mean()) * 100, 2)}% chance of getting a -1$ payout (aka: not winning anything)\")"
   ]
  },
  {
   "cell_type": "markdown",
   "metadata": {},
   "source": [
    "\n",
    "5. What is the average cost/gain per game? (think of averaging the total payout calculation across all simulations)\n"
   ]
  },
  {
   "cell_type": "code",
   "execution_count": 92,
   "metadata": {},
   "outputs": [
    {
     "data": {
      "text/plain": [
       "578576"
      ]
     },
     "execution_count": 92,
     "metadata": {},
     "output_type": "execute_result"
    }
   ],
   "source": [
    "lose = ((rolls == number).sum(axis=1) == 0).sum()\n",
    "lose"
   ]
  },
  {
   "cell_type": "code",
   "execution_count": 93,
   "metadata": {},
   "outputs": [
    {
     "data": {
      "text/plain": [
       "(347288, 69536, 4600)"
      ]
     },
     "execution_count": 93,
     "metadata": {},
     "output_type": "execute_result"
    }
   ],
   "source": [
    "even = ((rolls == number).sum(axis=1) == 1).sum()\n",
    "win_1 = ((rolls == number).sum(axis=1) == 2).sum()\n",
    "win_2 = ((rolls == number).sum(axis=1) == 3).sum()\n",
    "even, win_1, win_2"
   ]
  },
  {
   "cell_type": "code",
   "execution_count": 103,
   "metadata": {},
   "outputs": [
    {
     "name": "stdout",
     "output_type": "stream",
     "text": [
      "Each round it about -0.50$\n"
     ]
    }
   ],
   "source": [
    "lose_tot = lose * -1\n",
    "even_tot = even * 0\n",
    "win_1_tot = win_1 * 1\n",
    "win_2_tot = win_2 * 2\n",
    "print(f\"Each round is about {round((lose_tot + even_tot + win_1_tot + win_2_tot) / games, 2)}0$ gain\")"
   ]
  },
  {
   "cell_type": "markdown",
   "metadata": {},
   "source": [
    "\n",
    "6. Chart out a histogram of all the outcomes of those 1,000,000 games\n"
   ]
  },
  {
   "cell_type": "code",
   "execution_count": 109,
   "metadata": {},
   "outputs": [
    {
     "data": {
      "text/plain": [
       "(array([1., 1., 0., 0., 0., 1., 0., 0., 0., 1.]),\n",
       " array([  4600. ,  61997.6, 119395.2, 176792.8, 234190.4, 291588. ,\n",
       "        348985.6, 406383.2, 463780.8, 521178.4, 578576. ]),\n",
       " <BarContainer object of 10 artists>)"
      ]
     },
     "execution_count": 109,
     "metadata": {},
     "output_type": "execute_result"
    },
    {
     "data": {
      "image/png": "[encoded data removed]",
      "text/plain": [
       "<Figure size 432x288 with 1 Axes>"
      ]
     },
     "metadata": {
      "needs_background": "light"
     },
     "output_type": "display_data"
    }
   ],
   "source": [
    "plt.hist([lose,even,win_1,win_2]) #need to add lines and labels to this"
   ]
  },
  {
   "cell_type": "markdown",
   "metadata": {},
   "source": [
    "\n",
    "7. Is this really a fair game of 1/6 + 1/6 + 1/6 odds?\n"
   ]
  },
  {
   "cell_type": "code",
   "execution_count": 111,
   "metadata": {},
   "outputs": [],
   "source": [
    "# No, there is ~58% chance to lose a dollar, ~35% chance of breaking even, \n",
    "# ~7% chance of winning a dollar, and ~0.5% chance of winning 2$, \n",
    "# with each game losing about $0.50 a play.\n",
    "# I will say the odds of the house winning are closer to \n",
    "# that 1/6 + 1/6 + 1/6 'fair game' odds."
   ]
  },
  {
   "cell_type": "markdown",
   "metadata": {},
   "source": [
    "\n",
    "8. If you play 1,000,000 games in a row, what are your winnings/losses?"
   ]
  },
  {
   "cell_type": "code",
   "execution_count": 114,
   "metadata": {},
   "outputs": [
    {
     "name": "stdout",
     "output_type": "stream",
     "text": [
      "You'll lose about $500,000 of the $1,000,000 used to play\n"
     ]
    }
   ],
   "source": [
    "lose_tot + even_tot + win_1_tot + win_2_tot\n",
    "print(\"You'll lose about $500,000 of the $1,000,000 used to play\")"
   ]
  }
 ],
 "metadata": {
  "kernelspec": {
   "display_name": "Python 3.9.12 ('base')",
   "language": "python",
   "name": "python3"
  },
  "language_info": {
   "codemirror_mode": {
    "name": "ipython",
    "version": 3
   },
   "file_extension": ".py",
   "mimetype": "text/x-python",
   "name": "python",
   "nbconvert_exporter": "python",
   "pygments_lexer": "ipython3",
   "version": "3.9.12"
  },
  "orig_nbformat": 4,
  "vscode": {
   "interpreter": {
    "hash": "3067ead486e059ec00ffe7555bdb889e6e264a24dc711bf108106cc7baee8d5d"
   }
  }
 },
 "nbformat": 4,
 "nbformat_minor": 2
}
