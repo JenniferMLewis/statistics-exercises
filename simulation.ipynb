{
 "cells": [
  {
   "cell_type": "code",
   "execution_count": 1,
   "metadata": {},
   "outputs": [],
   "source": [
    "import matplotlib.pyplot as plt\n",
    "import numpy as np\n",
    "import pandas as pd\n"
   ]
  },
  {
   "cell_type": "markdown",
   "metadata": {},
   "source": [
    "### Simulation"
   ]
  },
  {
   "cell_type": "markdown",
   "metadata": {},
   "source": [
    "How likely is it that you roll doubles when rolling two dice?\n",
    "\n"
   ]
  },
  {
   "cell_type": "code",
   "execution_count": 2,
   "metadata": {},
   "outputs": [
    {
     "data": {
      "text/plain": [
       "array([[4, 5],\n",
       "       [4, 3],\n",
       "       [1, 1],\n",
       "       ...,\n",
       "       [1, 1],\n",
       "       [4, 2],\n",
       "       [4, 5]])"
      ]
     },
     "execution_count": 2,
     "metadata": {},
     "output_type": "execute_result"
    }
   ],
   "source": [
    "n_trials = nrows = 10_000\n",
    "n_dice = ncols = 2\n",
    "\n",
    "rolls = np.random.choice([1,2,3,4,5,6], n_trials * n_dice).reshape(nrows,ncols)\n",
    "rolls"
   ]
  },
  {
   "cell_type": "code",
   "execution_count": 3,
   "metadata": {},
   "outputs": [
    {
     "name": "stdout",
     "output_type": "stream",
     "text": [
      "0.1669% chance to roll doubles\n"
     ]
    }
   ],
   "source": [
    "rolls = pd.DataFrame(rolls)\n",
    "print(f'{(rolls[0] == rolls[1]).mean()}% chance to roll doubles')"
   ]
  },
  {
   "cell_type": "markdown",
   "metadata": {},
   "source": [
    "If you flip 8 coins, what is the probability of getting exactly 3 heads? What is the probability of getting more than 3 heads?\n",
    "\n"
   ]
  },
  {
   "cell_type": "code",
   "execution_count": 4,
   "metadata": {},
   "outputs": [
    {
     "data": {
      "text/plain": [
       "array([[0, 0, 1, ..., 0, 1, 1],\n",
       "       [1, 0, 0, ..., 0, 1, 0],\n",
       "       [1, 0, 0, ..., 1, 1, 0],\n",
       "       ...,\n",
       "       [1, 1, 1, ..., 1, 1, 0],\n",
       "       [1, 1, 1, ..., 0, 1, 1],\n",
       "       [1, 0, 0, ..., 0, 0, 1]])"
      ]
     },
     "execution_count": 4,
     "metadata": {},
     "output_type": "execute_result"
    }
   ],
   "source": [
    "# making life easier(?) heads = 1, tails = 0\n",
    "c_trials = crows = 10_000\n",
    "c_dice = ccols = 8\n",
    "\n",
    "coins = np.random.choice([1,0], c_trials * c_dice).reshape(crows,ccols)\n",
    "coins"
   ]
  },
  {
   "cell_type": "code",
   "execution_count": 5,
   "metadata": {},
   "outputs": [
    {
     "name": "stdout",
     "output_type": "stream",
     "text": [
      "0.2156 chance of exactly 3 heads, 0.6338 chance of more than 3 heads.\n",
      "There's also a 0.0043 chance of all heads, and 0.003 chance of all tails.\n"
     ]
    }
   ],
   "source": [
    "coins = pd.DataFrame(coins)\n",
    "sum_of_flips = coins.sum(axis=1)\n",
    "exactly_three_heads = sum_of_flips == 3\n",
    "more_than_three_heads = sum_of_flips > 3\n",
    "all_heads = sum_of_flips == 8\n",
    "all_tails = sum_of_flips == 0\n",
    "rate_of_3_heads = exactly_three_heads.astype(int).mean()\n",
    "rate_of_more_than_3 = more_than_three_heads.astype(int).mean()\n",
    "rate_all_heads = all_heads.astype(int).mean()\n",
    "rate_all_tails = all_tails.astype(int).mean()\n",
    "print(f'{rate_of_3_heads} chance of exactly 3 heads, {rate_of_more_than_3} chance of more than 3 heads.')\n",
    "print(f\"There's also a {rate_all_heads} chance of all heads, and {rate_all_tails} chance of all tails.\")"
   ]
  },
  {
   "cell_type": "markdown",
   "metadata": {},
   "source": [
    "There are approximitely 3 web development cohorts for every 1 data science cohort at Codeup. Assuming that Codeup randomly selects an alumni to put on a billboard, what are the odds that the two billboards I drive past both have data science students on them?\n",
    "\n"
   ]
  },
  {
   "cell_type": "code",
   "execution_count": 6,
   "metadata": {},
   "outputs": [
    {
     "data": {
      "text/plain": [
       "array([['web', 'ds'],\n",
       "       ['ds', 'web'],\n",
       "       ['web', 'web'],\n",
       "       ...,\n",
       "       ['web', 'web'],\n",
       "       ['web', 'web'],\n",
       "       ['web', 'ds']], dtype='<U3')"
      ]
     },
     "execution_count": 6,
     "metadata": {},
     "output_type": "execute_result"
    }
   ],
   "source": [
    "outcomes = ['web', 'web', 'web', 'ds']\n",
    "billboards_tot = 2\n",
    "billboards = np.random.choice(outcomes, size = (n_trials, billboards_tot))\n",
    "billboards"
   ]
  },
  {
   "cell_type": "code",
   "execution_count": 7,
   "metadata": {},
   "outputs": [
    {
     "data": {
      "text/plain": [
       "0.0626"
      ]
     },
     "execution_count": 7,
     "metadata": {},
     "output_type": "execute_result"
    }
   ],
   "source": [
    "((billboards == 'ds').sum(axis=1) == 2).mean()"
   ]
  },
  {
   "cell_type": "markdown",
   "metadata": {},
   "source": [
    "Codeup students buy, on average, 3 poptart packages with a standard deviation of 1.5 a day from the snack vending machine. If on monday the machine is restocked with 17 poptart packages, how likely is it that I will be able to buy some poptarts on Friday afternoon? (Remember, if you have mean and standard deviation, use the np.random.normal) You'll need to make a judgement call on how to handle some of your values\n",
    "\n"
   ]
  },
  {
   "cell_type": "code",
   "execution_count": 9,
   "metadata": {},
   "outputs": [
    {
     "data": {
      "text/plain": [
       "array([[ 2.55083996,  1.24205928,  4.13011281,  1.28939135,  3.83300038],\n",
       "       [ 4.53772555,  5.44259194,  2.70415891,  4.5920272 ,  4.03919968],\n",
       "       [ 7.50892937,  4.43283699,  3.27138954,  3.93152674,  1.76796025],\n",
       "       ...,\n",
       "       [ 2.39529715,  1.60945646,  2.41659897,  3.0786127 ,  5.11391096],\n",
       "       [ 3.51032572,  1.14632785,  2.57819891,  2.7154981 ,  2.48824373],\n",
       "       [ 0.69410191,  4.3398688 ,  0.74374805,  2.87618303, -0.55646581]])"
      ]
     },
     "execution_count": 9,
     "metadata": {},
     "output_type": "execute_result"
    }
   ],
   "source": [
    "mean = 3\n",
    "sd = 1.5\n",
    "days = 5\n",
    "\n",
    "poptarts_a_day = np.random.normal(mean, sd, size=(n_trials, days))\n",
    "poptarts_a_day"
   ]
  },
  {
   "cell_type": "code",
   "execution_count": 11,
   "metadata": {},
   "outputs": [
    {
     "data": {
      "text/plain": [
       "0"
      ]
     },
     "execution_count": 11,
     "metadata": {},
     "output_type": "execute_result"
    }
   ],
   "source": [
    "poptarts_a_week = poptarts_a_day.sum(axis=1)"
   ]
  },
  {
   "cell_type": "code",
   "execution_count": 12,
   "metadata": {},
   "outputs": [
    {
     "name": "stdout",
     "output_type": "stream",
     "text": [
      "0.7167 chance to be able to purchase a poptart on Friday afternoon.\n"
     ]
    }
   ],
   "source": [
    "print(f\"{(poptarts_a_week < 17).mean()} chance to be able to purchase a poptart on Friday afternoon.\")"
   ]
  },
  {
   "cell_type": "markdown",
   "metadata": {},
   "source": [
    "Compare Heights\n",
    "\n",
    "Men have an average height of 178 cm and standard deviation of 8cm.\n",
    "Women have a mean of 170, sd = 6cm.\n",
    "Since you have means and standard deviations, you can use np.random.normal to generate observations.\n",
    "If a man and woman are chosen at random, what is the likelihood the woman is taller than the man?\n"
   ]
  },
  {
   "cell_type": "code",
   "execution_count": 13,
   "metadata": {},
   "outputs": [],
   "source": [
    "male_mean = 178\n",
    "male_sd = 8\n",
    "female_mean = 170\n",
    "female_sd = 6"
   ]
  },
  {
   "cell_type": "code",
   "execution_count": 15,
   "metadata": {},
   "outputs": [
    {
     "data": {
      "text/plain": [
       "array([161.23707639, 167.12150181, 178.32664999, ..., 182.82792861,\n",
       "       183.63727623, 176.45900636])"
      ]
     },
     "execution_count": 15,
     "metadata": {},
     "output_type": "execute_result"
    }
   ],
   "source": [
    "male_height = np.random.normal(male_mean, male_sd, n_trials)\n",
    "male_height"
   ]
  },
  {
   "cell_type": "code",
   "execution_count": 16,
   "metadata": {},
   "outputs": [
    {
     "data": {
      "text/plain": [
       "array([172.86993059, 166.58819607, 174.16201087, ..., 172.88520675,\n",
       "       170.05306409, 165.76174556])"
      ]
     },
     "execution_count": 16,
     "metadata": {},
     "output_type": "execute_result"
    }
   ],
   "source": [
    "female_height = np.random.normal(female_mean, female_sd,n_trials)\n",
    "female_height"
   ]
  },
  {
   "cell_type": "code",
   "execution_count": 17,
   "metadata": {},
   "outputs": [
    {
     "data": {
      "text/plain": [
       "0.2131"
      ]
     },
     "execution_count": 17,
     "metadata": {},
     "output_type": "execute_result"
    }
   ],
   "source": [
    "(female_height > male_height).mean()"
   ]
  },
  {
   "cell_type": "markdown",
   "metadata": {},
   "source": [
    "When installing anaconda on a student's computer, there's a 1 in 250 chance that the download is corrupted and the installation fails. What are the odds that after having 50 students download anaconda, no one has an installation issue? 100 students?\n",
    "\n",
    "What is the probability that we observe an installation issue within the first 150 students that download anaconda?\n",
    "\n",
    "How likely is it that 450 students all download anaconda without an issue?\n",
    "\n"
   ]
  },
  {
   "cell_type": "code",
   "execution_count": 20,
   "metadata": {},
   "outputs": [
    {
     "data": {
      "text/plain": [
       "array([['S', 'S', 'S', ..., 'S', 'S', 'S'],\n",
       "       ['S', 'S', 'S', ..., 'S', 'S', 'S'],\n",
       "       ['S', 'S', 'S', ..., 'S', 'S', 'S'],\n",
       "       ...,\n",
       "       ['S', 'S', 'S', ..., 'S', 'S', 'S'],\n",
       "       ['S', 'S', 'S', ..., 'S', 'S', 'S'],\n",
       "       ['S', 'S', 'S', ..., 'S', 'S', 'S']], dtype='<U1')"
      ]
     },
     "execution_count": 20,
     "metadata": {},
     "output_type": "execute_result"
    }
   ],
   "source": [
    "install_outcomes = ['S', 'F']\n",
    "students = 50\n",
    "downloads = np.random.choice(install_outcomes, size=(n_trials, students), p = [249/250, 1/250])\n",
    "downloads"
   ]
  },
  {
   "cell_type": "code",
   "execution_count": 21,
   "metadata": {},
   "outputs": [
    {
     "data": {
      "text/plain": [
       "0.8204"
      ]
     },
     "execution_count": 21,
     "metadata": {},
     "output_type": "execute_result"
    }
   ],
   "source": [
    "((downloads == 'S').sum(axis=1) == 50).mean()"
   ]
  },
  {
   "cell_type": "code",
   "execution_count": 22,
   "metadata": {},
   "outputs": [
    {
     "data": {
      "text/plain": [
       "array([['S', 'S', 'S', ..., 'S', 'S', 'S'],\n",
       "       ['S', 'S', 'S', ..., 'S', 'S', 'S'],\n",
       "       ['S', 'S', 'S', ..., 'S', 'S', 'S'],\n",
       "       ...,\n",
       "       ['S', 'S', 'S', ..., 'S', 'S', 'S'],\n",
       "       ['S', 'S', 'S', ..., 'S', 'S', 'S'],\n",
       "       ['S', 'S', 'S', ..., 'S', 'S', 'S']], dtype='<U1')"
      ]
     },
     "execution_count": 22,
     "metadata": {},
     "output_type": "execute_result"
    }
   ],
   "source": [
    "students2 = 100\n",
    "downloads = np.random.choice(install_outcomes, size=(n_trials, students2), p = [249/250, 1/250])\n",
    "downloads"
   ]
  },
  {
   "cell_type": "code",
   "execution_count": 24,
   "metadata": {},
   "outputs": [
    {
     "data": {
      "text/plain": [
       "0.6705"
      ]
     },
     "execution_count": 24,
     "metadata": {},
     "output_type": "execute_result"
    }
   ],
   "source": [
    "((downloads == 'S').sum(axis=1) == 100).mean()"
   ]
  },
  {
   "cell_type": "code",
   "execution_count": 25,
   "metadata": {},
   "outputs": [
    {
     "data": {
      "text/plain": [
       "array([['S', 'S', 'S', ..., 'S', 'S', 'S'],\n",
       "       ['S', 'S', 'S', ..., 'S', 'S', 'S'],\n",
       "       ['S', 'S', 'S', ..., 'S', 'S', 'S'],\n",
       "       ...,\n",
       "       ['S', 'S', 'S', ..., 'S', 'S', 'S'],\n",
       "       ['S', 'S', 'S', ..., 'S', 'S', 'S'],\n",
       "       ['S', 'S', 'S', ..., 'S', 'S', 'S']], dtype='<U1')"
      ]
     },
     "execution_count": 25,
     "metadata": {},
     "output_type": "execute_result"
    }
   ],
   "source": [
    "students3 = 150\n",
    "downloads = np.random.choice(install_outcomes, size=(n_trials, students3), p = [249/250, 1/250])\n",
    "downloads"
   ]
  },
  {
   "cell_type": "code",
   "execution_count": 26,
   "metadata": {},
   "outputs": [
    {
     "data": {
      "text/plain": [
       "0.4608"
      ]
     },
     "execution_count": 26,
     "metadata": {},
     "output_type": "execute_result"
    }
   ],
   "source": [
    "((downloads == 'S').sum(axis=1) < students3).mean()"
   ]
  },
  {
   "cell_type": "code",
   "execution_count": 27,
   "metadata": {},
   "outputs": [
    {
     "data": {
      "text/plain": [
       "array([['S', 'S', 'S', ..., 'S', 'S', 'S'],\n",
       "       ['S', 'S', 'S', ..., 'S', 'S', 'S'],\n",
       "       ['S', 'S', 'S', ..., 'S', 'S', 'S'],\n",
       "       ...,\n",
       "       ['S', 'S', 'S', ..., 'S', 'S', 'S'],\n",
       "       ['S', 'S', 'S', ..., 'S', 'S', 'S'],\n",
       "       ['S', 'S', 'S', ..., 'S', 'S', 'S']], dtype='<U1')"
      ]
     },
     "execution_count": 27,
     "metadata": {},
     "output_type": "execute_result"
    }
   ],
   "source": [
    "students4 = 450\n",
    "downloads = np.random.choice(install_outcomes, size=(n_trials, students4), p = [249/250, 1/250])\n",
    "downloads"
   ]
  },
  {
   "cell_type": "code",
   "execution_count": 28,
   "metadata": {},
   "outputs": [
    {
     "data": {
      "text/plain": [
       "0.1665"
      ]
     },
     "execution_count": 28,
     "metadata": {},
     "output_type": "execute_result"
    }
   ],
   "source": [
    "((downloads == 'S').sum(axis=1) == students4).mean()"
   ]
  },
  {
   "cell_type": "markdown",
   "metadata": {},
   "source": [
    "There's a 70% chance on any given day that there will be at least one food truck at Travis Park. However, you haven't seen a food truck there in 3 days. How unlikely is this?\n",
    "\n",
    "How likely is it that a food truck will show up sometime this week?\n",
    "\n"
   ]
  },
  {
   "cell_type": "code",
   "execution_count": 31,
   "metadata": {},
   "outputs": [
    {
     "data": {
      "text/plain": [
       "array([[0.33056647, 0.92158573, 0.56702308],\n",
       "       [0.72009811, 0.83907307, 0.05934625],\n",
       "       [0.17606929, 0.59704233, 0.57635545],\n",
       "       ...,\n",
       "       [0.92576837, 0.07569321, 0.8950645 ],\n",
       "       [0.50349566, 0.50933209, 0.65549029],\n",
       "       [0.26687792, 0.90625187, 0.67470713]])"
      ]
     },
     "execution_count": 31,
     "metadata": {},
     "output_type": "execute_result"
    }
   ],
   "source": [
    "food_truck_prob = 0.70\n",
    "days = 3\n",
    "is_truck_here = np.random.random((n_trials, days))\n",
    "is_truck_here"
   ]
  },
  {
   "cell_type": "code",
   "execution_count": 32,
   "metadata": {},
   "outputs": [
    {
     "data": {
      "text/plain": [
       "array([[ True, False,  True],\n",
       "       [False, False,  True],\n",
       "       [ True,  True,  True],\n",
       "       ...,\n",
       "       [False,  True, False],\n",
       "       [ True,  True,  True],\n",
       "       [ True, False,  True]])"
      ]
     },
     "execution_count": 32,
     "metadata": {},
     "output_type": "execute_result"
    }
   ],
   "source": [
    "food_is_here = (is_truck_here < food_truck_prob)\n",
    "food_is_here"
   ]
  },
  {
   "cell_type": "code",
   "execution_count": 33,
   "metadata": {},
   "outputs": [
    {
     "data": {
      "text/plain": [
       "0.0268"
      ]
     },
     "execution_count": 33,
     "metadata": {},
     "output_type": "execute_result"
    }
   ],
   "source": [
    "(food_is_here.sum(axis=1) == 0).mean()"
   ]
  },
  {
   "cell_type": "code",
   "execution_count": 34,
   "metadata": {},
   "outputs": [
    {
     "data": {
      "text/plain": [
       "0.9996"
      ]
     },
     "execution_count": 34,
     "metadata": {},
     "output_type": "execute_result"
    }
   ],
   "source": [
    "days = 7\n",
    "is_truck_here = np.random.random((n_trials, days))\n",
    "food_is_here = (is_truck_here < food_truck_prob)\n",
    "(food_is_here.sum(axis=1) > 0).mean()"
   ]
  },
  {
   "cell_type": "markdown",
   "metadata": {},
   "source": [
    "If 23 people are in the same room, what are the odds that two of them share a birthday? What if it's 20 people? 40?\n",
    "\n"
   ]
  },
  {
   "cell_type": "code",
   "execution_count": 48,
   "metadata": {},
   "outputs": [
    {
     "data": {
      "text/plain": [
       "array([[264,  76,   6, ...,  40,  22, 109],\n",
       "       [267, 136,  23, ..., 310, 126, 293],\n",
       "       [105,  66, 183, ..., 144,  14, 105],\n",
       "       ...,\n",
       "       [354, 291, 323, ..., 248, 142, 176],\n",
       "       [259, 309, 324, ...,  38, 149,  82],\n",
       "       [ 37, 205,  86, ...,  59,  57, 288]])"
      ]
     },
     "execution_count": 48,
     "metadata": {},
     "output_type": "execute_result"
    }
   ],
   "source": [
    "outcome = range(366)\n",
    "people = 23\n",
    "\n",
    "birthdays = np.random.choice(outcome, size=(n_trials,people))\n",
    "birthdays"
   ]
  },
  {
   "cell_type": "code",
   "execution_count": 49,
   "metadata": {},
   "outputs": [
    {
     "data": {
      "text/html": [
       "<div>\n",
       "<style scoped>\n",
       "    .dataframe tbody tr th:only-of-type {\n",
       "        vertical-align: middle;\n",
       "    }\n",
       "\n",
       "    .dataframe tbody tr th {\n",
       "        vertical-align: top;\n",
       "    }\n",
       "\n",
       "    .dataframe thead th {\n",
       "        text-align: right;\n",
       "    }\n",
       "</style>\n",
       "<table border=\"1\" class=\"dataframe\">\n",
       "  <thead>\n",
       "    <tr style=\"text-align: right;\">\n",
       "      <th></th>\n",
       "      <th>0</th>\n",
       "      <th>1</th>\n",
       "      <th>2</th>\n",
       "      <th>3</th>\n",
       "      <th>4</th>\n",
       "      <th>5</th>\n",
       "      <th>6</th>\n",
       "      <th>7</th>\n",
       "      <th>8</th>\n",
       "      <th>9</th>\n",
       "      <th>...</th>\n",
       "      <th>13</th>\n",
       "      <th>14</th>\n",
       "      <th>15</th>\n",
       "      <th>16</th>\n",
       "      <th>17</th>\n",
       "      <th>18</th>\n",
       "      <th>19</th>\n",
       "      <th>20</th>\n",
       "      <th>21</th>\n",
       "      <th>22</th>\n",
       "    </tr>\n",
       "  </thead>\n",
       "  <tbody>\n",
       "    <tr>\n",
       "      <th>0</th>\n",
       "      <td>264</td>\n",
       "      <td>76</td>\n",
       "      <td>6</td>\n",
       "      <td>39</td>\n",
       "      <td>361</td>\n",
       "      <td>185</td>\n",
       "      <td>278</td>\n",
       "      <td>239</td>\n",
       "      <td>79</td>\n",
       "      <td>143</td>\n",
       "      <td>...</td>\n",
       "      <td>245</td>\n",
       "      <td>276</td>\n",
       "      <td>354</td>\n",
       "      <td>207</td>\n",
       "      <td>17</td>\n",
       "      <td>107</td>\n",
       "      <td>67</td>\n",
       "      <td>40</td>\n",
       "      <td>22</td>\n",
       "      <td>109</td>\n",
       "    </tr>\n",
       "    <tr>\n",
       "      <th>1</th>\n",
       "      <td>267</td>\n",
       "      <td>136</td>\n",
       "      <td>23</td>\n",
       "      <td>95</td>\n",
       "      <td>60</td>\n",
       "      <td>345</td>\n",
       "      <td>81</td>\n",
       "      <td>323</td>\n",
       "      <td>11</td>\n",
       "      <td>85</td>\n",
       "      <td>...</td>\n",
       "      <td>25</td>\n",
       "      <td>267</td>\n",
       "      <td>9</td>\n",
       "      <td>230</td>\n",
       "      <td>197</td>\n",
       "      <td>139</td>\n",
       "      <td>229</td>\n",
       "      <td>310</td>\n",
       "      <td>126</td>\n",
       "      <td>293</td>\n",
       "    </tr>\n",
       "    <tr>\n",
       "      <th>2</th>\n",
       "      <td>105</td>\n",
       "      <td>66</td>\n",
       "      <td>183</td>\n",
       "      <td>319</td>\n",
       "      <td>134</td>\n",
       "      <td>101</td>\n",
       "      <td>165</td>\n",
       "      <td>14</td>\n",
       "      <td>152</td>\n",
       "      <td>302</td>\n",
       "      <td>...</td>\n",
       "      <td>192</td>\n",
       "      <td>320</td>\n",
       "      <td>62</td>\n",
       "      <td>68</td>\n",
       "      <td>86</td>\n",
       "      <td>217</td>\n",
       "      <td>67</td>\n",
       "      <td>144</td>\n",
       "      <td>14</td>\n",
       "      <td>105</td>\n",
       "    </tr>\n",
       "    <tr>\n",
       "      <th>3</th>\n",
       "      <td>263</td>\n",
       "      <td>117</td>\n",
       "      <td>111</td>\n",
       "      <td>91</td>\n",
       "      <td>352</td>\n",
       "      <td>275</td>\n",
       "      <td>131</td>\n",
       "      <td>324</td>\n",
       "      <td>281</td>\n",
       "      <td>132</td>\n",
       "      <td>...</td>\n",
       "      <td>84</td>\n",
       "      <td>277</td>\n",
       "      <td>3</td>\n",
       "      <td>121</td>\n",
       "      <td>6</td>\n",
       "      <td>352</td>\n",
       "      <td>159</td>\n",
       "      <td>116</td>\n",
       "      <td>286</td>\n",
       "      <td>355</td>\n",
       "    </tr>\n",
       "    <tr>\n",
       "      <th>4</th>\n",
       "      <td>168</td>\n",
       "      <td>177</td>\n",
       "      <td>73</td>\n",
       "      <td>12</td>\n",
       "      <td>148</td>\n",
       "      <td>17</td>\n",
       "      <td>185</td>\n",
       "      <td>113</td>\n",
       "      <td>260</td>\n",
       "      <td>332</td>\n",
       "      <td>...</td>\n",
       "      <td>295</td>\n",
       "      <td>151</td>\n",
       "      <td>33</td>\n",
       "      <td>314</td>\n",
       "      <td>35</td>\n",
       "      <td>208</td>\n",
       "      <td>358</td>\n",
       "      <td>270</td>\n",
       "      <td>291</td>\n",
       "      <td>250</td>\n",
       "    </tr>\n",
       "    <tr>\n",
       "      <th>...</th>\n",
       "      <td>...</td>\n",
       "      <td>...</td>\n",
       "      <td>...</td>\n",
       "      <td>...</td>\n",
       "      <td>...</td>\n",
       "      <td>...</td>\n",
       "      <td>...</td>\n",
       "      <td>...</td>\n",
       "      <td>...</td>\n",
       "      <td>...</td>\n",
       "      <td>...</td>\n",
       "      <td>...</td>\n",
       "      <td>...</td>\n",
       "      <td>...</td>\n",
       "      <td>...</td>\n",
       "      <td>...</td>\n",
       "      <td>...</td>\n",
       "      <td>...</td>\n",
       "      <td>...</td>\n",
       "      <td>...</td>\n",
       "      <td>...</td>\n",
       "    </tr>\n",
       "    <tr>\n",
       "      <th>9995</th>\n",
       "      <td>127</td>\n",
       "      <td>69</td>\n",
       "      <td>322</td>\n",
       "      <td>321</td>\n",
       "      <td>89</td>\n",
       "      <td>182</td>\n",
       "      <td>108</td>\n",
       "      <td>161</td>\n",
       "      <td>50</td>\n",
       "      <td>252</td>\n",
       "      <td>...</td>\n",
       "      <td>60</td>\n",
       "      <td>293</td>\n",
       "      <td>317</td>\n",
       "      <td>43</td>\n",
       "      <td>247</td>\n",
       "      <td>158</td>\n",
       "      <td>134</td>\n",
       "      <td>230</td>\n",
       "      <td>234</td>\n",
       "      <td>267</td>\n",
       "    </tr>\n",
       "    <tr>\n",
       "      <th>9996</th>\n",
       "      <td>84</td>\n",
       "      <td>127</td>\n",
       "      <td>353</td>\n",
       "      <td>122</td>\n",
       "      <td>190</td>\n",
       "      <td>353</td>\n",
       "      <td>4</td>\n",
       "      <td>354</td>\n",
       "      <td>81</td>\n",
       "      <td>151</td>\n",
       "      <td>...</td>\n",
       "      <td>88</td>\n",
       "      <td>286</td>\n",
       "      <td>54</td>\n",
       "      <td>186</td>\n",
       "      <td>58</td>\n",
       "      <td>117</td>\n",
       "      <td>5</td>\n",
       "      <td>219</td>\n",
       "      <td>27</td>\n",
       "      <td>229</td>\n",
       "    </tr>\n",
       "    <tr>\n",
       "      <th>9997</th>\n",
       "      <td>354</td>\n",
       "      <td>291</td>\n",
       "      <td>323</td>\n",
       "      <td>276</td>\n",
       "      <td>326</td>\n",
       "      <td>55</td>\n",
       "      <td>46</td>\n",
       "      <td>48</td>\n",
       "      <td>141</td>\n",
       "      <td>169</td>\n",
       "      <td>...</td>\n",
       "      <td>67</td>\n",
       "      <td>317</td>\n",
       "      <td>71</td>\n",
       "      <td>350</td>\n",
       "      <td>81</td>\n",
       "      <td>38</td>\n",
       "      <td>5</td>\n",
       "      <td>248</td>\n",
       "      <td>142</td>\n",
       "      <td>176</td>\n",
       "    </tr>\n",
       "    <tr>\n",
       "      <th>9998</th>\n",
       "      <td>259</td>\n",
       "      <td>309</td>\n",
       "      <td>324</td>\n",
       "      <td>288</td>\n",
       "      <td>322</td>\n",
       "      <td>326</td>\n",
       "      <td>310</td>\n",
       "      <td>212</td>\n",
       "      <td>115</td>\n",
       "      <td>199</td>\n",
       "      <td>...</td>\n",
       "      <td>6</td>\n",
       "      <td>260</td>\n",
       "      <td>237</td>\n",
       "      <td>361</td>\n",
       "      <td>68</td>\n",
       "      <td>40</td>\n",
       "      <td>74</td>\n",
       "      <td>38</td>\n",
       "      <td>149</td>\n",
       "      <td>82</td>\n",
       "    </tr>\n",
       "    <tr>\n",
       "      <th>9999</th>\n",
       "      <td>37</td>\n",
       "      <td>205</td>\n",
       "      <td>86</td>\n",
       "      <td>154</td>\n",
       "      <td>18</td>\n",
       "      <td>33</td>\n",
       "      <td>187</td>\n",
       "      <td>221</td>\n",
       "      <td>346</td>\n",
       "      <td>144</td>\n",
       "      <td>...</td>\n",
       "      <td>121</td>\n",
       "      <td>163</td>\n",
       "      <td>225</td>\n",
       "      <td>228</td>\n",
       "      <td>102</td>\n",
       "      <td>227</td>\n",
       "      <td>45</td>\n",
       "      <td>59</td>\n",
       "      <td>57</td>\n",
       "      <td>288</td>\n",
       "    </tr>\n",
       "  </tbody>\n",
       "</table>\n",
       "<p>10000 rows × 23 columns</p>\n",
       "</div>"
      ],
      "text/plain": [
       "       0    1    2    3    4    5    6    7    8    9   ...   13   14   15  \\\n",
       "0     264   76    6   39  361  185  278  239   79  143  ...  245  276  354   \n",
       "1     267  136   23   95   60  345   81  323   11   85  ...   25  267    9   \n",
       "2     105   66  183  319  134  101  165   14  152  302  ...  192  320   62   \n",
       "3     263  117  111   91  352  275  131  324  281  132  ...   84  277    3   \n",
       "4     168  177   73   12  148   17  185  113  260  332  ...  295  151   33   \n",
       "...   ...  ...  ...  ...  ...  ...  ...  ...  ...  ...  ...  ...  ...  ...   \n",
       "9995  127   69  322  321   89  182  108  161   50  252  ...   60  293  317   \n",
       "9996   84  127  353  122  190  353    4  354   81  151  ...   88  286   54   \n",
       "9997  354  291  323  276  326   55   46   48  141  169  ...   67  317   71   \n",
       "9998  259  309  324  288  322  326  310  212  115  199  ...    6  260  237   \n",
       "9999   37  205   86  154   18   33  187  221  346  144  ...  121  163  225   \n",
       "\n",
       "       16   17   18   19   20   21   22  \n",
       "0     207   17  107   67   40   22  109  \n",
       "1     230  197  139  229  310  126  293  \n",
       "2      68   86  217   67  144   14  105  \n",
       "3     121    6  352  159  116  286  355  \n",
       "4     314   35  208  358  270  291  250  \n",
       "...   ...  ...  ...  ...  ...  ...  ...  \n",
       "9995   43  247  158  134  230  234  267  \n",
       "9996  186   58  117    5  219   27  229  \n",
       "9997  350   81   38    5  248  142  176  \n",
       "9998  361   68   40   74   38  149   82  \n",
       "9999  228  102  227   45   59   57  288  \n",
       "\n",
       "[10000 rows x 23 columns]"
      ]
     },
     "execution_count": 49,
     "metadata": {},
     "output_type": "execute_result"
    }
   ],
   "source": [
    "birthdays = pd.DataFrame(birthdays)\n",
    "birthdays"
   ]
  },
  {
   "cell_type": "code",
   "execution_count": 50,
   "metadata": {},
   "outputs": [
    {
     "data": {
      "text/plain": [
       "0.4996"
      ]
     },
     "execution_count": 50,
     "metadata": {},
     "output_type": "execute_result"
    }
   ],
   "source": [
    "# I love nunique, I'm curious what nlargest/nsmallest does in the wild.\n",
    "(birthdays.nunique(axis=1) < people).mean()"
   ]
  },
  {
   "cell_type": "code",
   "execution_count": 41,
   "metadata": {},
   "outputs": [
    {
     "data": {
      "text/plain": [
       "0.4164"
      ]
     },
     "execution_count": 41,
     "metadata": {},
     "output_type": "execute_result"
    }
   ],
   "source": [
    "people2 = 20\n",
    "birthdays = np.random.choice(outcome, size=(n_trials,people2))\n",
    "birthdays = pd.DataFrame(birthdays)\n",
    "(birthdays.nunique(axis=1) < people2).mean()"
   ]
  },
  {
   "cell_type": "code",
   "execution_count": 40,
   "metadata": {},
   "outputs": [
    {
     "data": {
      "text/plain": [
       "0.8897"
      ]
     },
     "execution_count": 40,
     "metadata": {},
     "output_type": "execute_result"
    }
   ],
   "source": [
    "people3 = 40\n",
    "birthdays = np.random.choice(outcome, size=(n_trials,people3))\n",
    "birthdays = pd.DataFrame(birthdays)\n",
    "(birthdays.nunique(axis=1) < people3).mean()"
   ]
  },
  {
   "cell_type": "markdown",
   "metadata": {},
   "source": []
  }
 ],
 "metadata": {
  "kernelspec": {
   "display_name": "Python 3.9.12 ('base')",
   "language": "python",
   "name": "python3"
  },
  "language_info": {
   "codemirror_mode": {
    "name": "ipython",
    "version": 3
   },
   "file_extension": ".py",
   "mimetype": "text/x-python",
   "name": "python",
   "nbconvert_exporter": "python",
   "pygments_lexer": "ipython3",
   "version": "3.9.12"
  },
  "orig_nbformat": 4,
  "vscode": {
   "interpreter": {
    "hash": "3067ead486e059ec00ffe7555bdb889e6e264a24dc711bf108106cc7baee8d5d"
   }
  }
 },
 "nbformat": 4,
 "nbformat_minor": 2
}
